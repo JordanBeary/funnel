{
 "cells": [
  {
   "cell_type": "code",
   "execution_count": 39,
   "metadata": {},
   "outputs": [],
   "source": [
    "import pandas as pd\n",
    "import numpy as np\n",
    "\n",
    "def calculate_conversion(revenue_target, conversion_rates, avg_revenue_customer):\n",
    "    customers = revenue_target/avg_revenue_customer\n",
    "    portal = customers/conversion_rates[2]\n",
    "    web = portal/conversion_rates[1]\n",
    "    impressions = web/conversion_rates[0]\n",
    "    funnel = np.array([impressions, web, portal, customers]).astype(int)\n",
    "    return funnel\n",
    "\n",
    "impressions_web = 0.05\n",
    "web_portal = 0.2\n",
    "portal_customer = 0.6\n",
    "\n",
    "conversion_rates = [impressions_web, web_portal, portal_customer]\n",
    "avg_revenue_customer = 3225\n",
    "revenue_target = 2000000\n",
    "\n",
    "certification_funnel = calculate_conversion(revenue_target, conversion_rates, avg_revenue_customer)\n",
    "\n",
    "funnel_index = ['Impressions','Web Visitors', 'New Portal Accounts', 'Customers']\n",
    "column = ['Certification Funnel']\n",
    "funnel_df = pd.DataFrame(data=certification_funnel,\n",
    "                        index=funnel_index,\n",
    "                        columns=column)"
   ]
  },
  {
   "cell_type": "code",
   "execution_count": 45,
   "metadata": {},
   "outputs": [
    {
     "name": "stdout",
     "output_type": "stream",
     "text": [
      "Running on http://127.0.0.1:8050/\n",
      "Running on http://127.0.0.1:8050/\n",
      "Debugger PIN: 543-176-418\n",
      "Debugger PIN: 543-176-418\n",
      " * Serving Flask app \"__main__\" (lazy loading)\n",
      " * Environment: production\n",
      "   WARNING: This is a development server. Do not use it in a production deployment.\n",
      "   Use a production WSGI server instead.\n",
      " * Debug mode: on\n"
     ]
    },
    {
     "ename": "SystemExit",
     "evalue": "1",
     "output_type": "error",
     "traceback": [
      "An exception has occurred, use %tb to see the full traceback.\n",
      "\u001b[0;31mSystemExit\u001b[0m\u001b[0;31m:\u001b[0m 1\n"
     ]
    },
    {
     "name": "stderr",
     "output_type": "stream",
     "text": [
      "/anaconda3/envs/LS/lib/python3.7/site-packages/IPython/core/interactiveshell.py:3304: UserWarning:\n",
      "\n",
      "To exit: use 'exit', 'quit', or Ctrl-D.\n",
      "\n"
     ]
    }
   ],
   "source": [
    "import dash\n",
    "import dash_core_components as dcc\n",
    "import dash_html_components as html\n",
    "import pandas as pd\n",
    "import numpy as np\n",
    "\n",
    "def calculate_conversion(revenue_target, conversion_rates, avg_revenue_customer):\n",
    "    customers = revenue_target/avg_revenue_customer\n",
    "    portal = customers/conversion_rates[2]\n",
    "    web = portal/conversion_rates[1]\n",
    "    impressions = web/conversion_rates[0]\n",
    "    funnel = np.array([impressions, web, portal, customers]).astype(int)\n",
    "    return funnel\n",
    "\n",
    "impressions_web = 0.05\n",
    "web_portal = 0.2\n",
    "portal_customer = 0.6\n",
    "\n",
    "conversion_rates = [impressions_web, web_portal, portal_customer]\n",
    "avg_revenue_customer = 3225\n",
    "revenue_target = 2000000\n",
    "\n",
    "certification_funnel = calculate_conversion(revenue_target, conversion_rates, avg_revenue_customer)\n",
    "\n",
    "funnel_index = ['Impressions','Web Visitors', 'New Portal Accounts', 'Customers']\n",
    "column = ['Certification Funnel']\n",
    "funnel_df = pd.DataFrame(data=certification_funnel,\n",
    "                        index=funnel_index,\n",
    "                        columns=column)\n",
    "\n",
    "\n",
    "def generate_table(dataframe, max_rows=10):\n",
    "    return html.Table(\n",
    "        # Header\n",
    "        [html.Tr([html.Th(col) for col in dataframe.columns])] +\n",
    "\n",
    "        # Body\n",
    "        [html.Tr([\n",
    "            html.Td(dataframe.iloc[i][col]) for col in dataframe.columns\n",
    "        ]) for i in range(min(len(dataframe), max_rows))]\n",
    "    )\n",
    "\n",
    "\n",
    "external_stylesheets = ['https://codepen.io/chriddyp/pen/bWLwgP.css']\n",
    "\n",
    "app = dash.Dash(__name__, external_stylesheets=external_stylesheets)\n",
    "\n",
    "app.layout = html.Div(children=[\n",
    "    html.H4(children='Funnel Calculator'),\n",
    "    generate_table(funnel_df)\n",
    "])\n",
    "\n",
    "if __name__ == '__main__':\n",
    "    app.run_server(debug=True)"
   ]
  }
 ],
 "metadata": {
  "kernelspec": {
   "display_name": "Python 3",
   "language": "python",
   "name": "python3"
  },
  "language_info": {
   "codemirror_mode": {
    "name": "ipython",
    "version": 3
   },
   "file_extension": ".py",
   "mimetype": "text/x-python",
   "name": "python",
   "nbconvert_exporter": "python",
   "pygments_lexer": "ipython3",
   "version": "3.7.3"
  }
 },
 "nbformat": 4,
 "nbformat_minor": 2
}
